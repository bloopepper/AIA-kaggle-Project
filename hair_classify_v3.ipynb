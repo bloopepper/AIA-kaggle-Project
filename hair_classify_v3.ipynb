{
 "cells": [
  {
   "cell_type": "code",
   "execution_count": 1,
   "metadata": {},
   "outputs": [],
   "source": [
    "import numpy as np\n",
    "from tqdm import tqdm\n",
    "import pandas as pd\n",
    "import os\n",
    "import matplotlib.pyplot as plt\n",
    "import cv2\n",
    "# from keras.preprocessing.image import load_img"
   ]
  },
  {
   "cell_type": "code",
   "execution_count": 2,
   "metadata": {},
   "outputs": [],
   "source": [
    "os.environ[\"CUDA_VISIBLE_DEVICES\"] = \"0\""
   ]
  },
  {
   "cell_type": "code",
   "execution_count": 3,
   "metadata": {},
   "outputs": [
    {
     "name": "stdout",
     "output_type": "stream",
     "text": [
      "[PhysicalDevice(name='/physical_device:GPU:0', device_type='GPU')]\n"
     ]
    }
   ],
   "source": [
    "# Check GPU\n",
    "import tensorflow as tf\n",
    "physical_devices = tf.config.experimental.list_physical_devices('GPU')\n",
    "print(physical_devices)\n",
    "assert len(physical_devices) > 0, \"Not enough GPU hardware devices available\"\n",
    "tf.config.experimental.set_memory_growth(physical_devices[0], True)"
   ]
  },
  {
   "cell_type": "code",
   "execution_count": null,
   "metadata": {},
   "outputs": [],
   "source": []
  },
  {
   "cell_type": "code",
   "execution_count": 4,
   "metadata": {},
   "outputs": [],
   "source": [
    "from tensorflow import keras\n",
    "from tensorflow.keras.preprocessing.image import ImageDataGenerator\n",
    "from tensorflow.keras.models import Model, load_model\n",
    "from tensorflow.keras.layers import Input, Conv1D, Flatten, Activation, Dropout, Dense, GlobalAveragePooling2D\n",
    "import tensorflow as tf\n",
    "import tensorflow.keras.backend as K\n",
    "from tensorflow.keras.utils import plot_model"
   ]
  },
  {
   "cell_type": "code",
   "execution_count": 5,
   "metadata": {},
   "outputs": [],
   "source": [
    "data_path = \"./train_800\"\n",
    "\n",
    "x_data_list = []\n",
    "y_data_list = []\n",
    "for roots, dirs, files in os.walk(data_path):\n",
    "    for each in files:\n",
    "        if each.find('checkpoint') == -1:\n",
    "            x_data_list.append(os.path.join(roots.split(\"/\")[-1], each))\n",
    "            y_data_list.append(roots.split(\"/\")[-1])"
   ]
  },
  {
   "cell_type": "code",
   "execution_count": 6,
   "metadata": {},
   "outputs": [],
   "source": [
    "data_list = pd.DataFrame({})\n",
    "data_list['img_path'] = x_data_list\n",
    "data_list['label'] = y_data_list"
   ]
  },
  {
   "cell_type": "code",
   "execution_count": 7,
   "metadata": {},
   "outputs": [
    {
     "data": {
      "text/html": [
       "<div>\n",
       "<style scoped>\n",
       "    .dataframe tbody tr th:only-of-type {\n",
       "        vertical-align: middle;\n",
       "    }\n",
       "\n",
       "    .dataframe tbody tr th {\n",
       "        vertical-align: top;\n",
       "    }\n",
       "\n",
       "    .dataframe thead th {\n",
       "        text-align: right;\n",
       "    }\n",
       "</style>\n",
       "<table border=\"1\" class=\"dataframe\">\n",
       "  <thead>\n",
       "    <tr style=\"text-align: right;\">\n",
       "      <th></th>\n",
       "      <th>img_path</th>\n",
       "      <th>label</th>\n",
       "    </tr>\n",
       "  </thead>\n",
       "  <tbody>\n",
       "    <tr>\n",
       "      <th>0</th>\n",
       "      <td>Gray_Hair_800/7efaec9350d844d7.png</td>\n",
       "      <td>Gray_Hair_800</td>\n",
       "    </tr>\n",
       "    <tr>\n",
       "      <th>1</th>\n",
       "      <td>Gray_Hair_800/9dcb4f3374e14094.png</td>\n",
       "      <td>Gray_Hair_800</td>\n",
       "    </tr>\n",
       "    <tr>\n",
       "      <th>2</th>\n",
       "      <td>Gray_Hair_800/8df6ddb8c31041c6.png</td>\n",
       "      <td>Gray_Hair_800</td>\n",
       "    </tr>\n",
       "  </tbody>\n",
       "</table>\n",
       "</div>"
      ],
      "text/plain": [
       "                             img_path          label\n",
       "0  Gray_Hair_800/7efaec9350d844d7.png  Gray_Hair_800\n",
       "1  Gray_Hair_800/9dcb4f3374e14094.png  Gray_Hair_800\n",
       "2  Gray_Hair_800/8df6ddb8c31041c6.png  Gray_Hair_800"
      ]
     },
     "execution_count": 7,
     "metadata": {},
     "output_type": "execute_result"
    }
   ],
   "source": [
    "data_list.head(3)"
   ]
  },
  {
   "cell_type": "code",
   "execution_count": 8,
   "metadata": {},
   "outputs": [],
   "source": [
    "data_list['label'] = data_list['label'].map(lambda x: x.rstrip('_800'))"
   ]
  },
  {
   "cell_type": "code",
   "execution_count": 9,
   "metadata": {},
   "outputs": [
    {
     "data": {
      "text/html": [
       "<div>\n",
       "<style scoped>\n",
       "    .dataframe tbody tr th:only-of-type {\n",
       "        vertical-align: middle;\n",
       "    }\n",
       "\n",
       "    .dataframe tbody tr th {\n",
       "        vertical-align: top;\n",
       "    }\n",
       "\n",
       "    .dataframe thead th {\n",
       "        text-align: right;\n",
       "    }\n",
       "</style>\n",
       "<table border=\"1\" class=\"dataframe\">\n",
       "  <thead>\n",
       "    <tr style=\"text-align: right;\">\n",
       "      <th></th>\n",
       "      <th>img_path</th>\n",
       "      <th>label</th>\n",
       "    </tr>\n",
       "  </thead>\n",
       "  <tbody>\n",
       "    <tr>\n",
       "      <th>0</th>\n",
       "      <td>Gray_Hair_800/7efaec9350d844d7.png</td>\n",
       "      <td>Gray_Hair</td>\n",
       "    </tr>\n",
       "    <tr>\n",
       "      <th>1</th>\n",
       "      <td>Gray_Hair_800/9dcb4f3374e14094.png</td>\n",
       "      <td>Gray_Hair</td>\n",
       "    </tr>\n",
       "    <tr>\n",
       "      <th>2</th>\n",
       "      <td>Gray_Hair_800/8df6ddb8c31041c6.png</td>\n",
       "      <td>Gray_Hair</td>\n",
       "    </tr>\n",
       "    <tr>\n",
       "      <th>3</th>\n",
       "      <td>Gray_Hair_800/7ec0e40a5d7a40e6.png</td>\n",
       "      <td>Gray_Hair</td>\n",
       "    </tr>\n",
       "    <tr>\n",
       "      <th>4</th>\n",
       "      <td>Gray_Hair_800/3e1e952d54a54c6a.png</td>\n",
       "      <td>Gray_Hair</td>\n",
       "    </tr>\n",
       "    <tr>\n",
       "      <th>...</th>\n",
       "      <td>...</td>\n",
       "      <td>...</td>\n",
       "    </tr>\n",
       "    <tr>\n",
       "      <th>4795</th>\n",
       "      <td>Blond_Hair_800/0eb3018b8f3c4036.png</td>\n",
       "      <td>Blond_Hair</td>\n",
       "    </tr>\n",
       "    <tr>\n",
       "      <th>4796</th>\n",
       "      <td>Blond_Hair_800/1a6f0215fd6243c4.png</td>\n",
       "      <td>Blond_Hair</td>\n",
       "    </tr>\n",
       "    <tr>\n",
       "      <th>4797</th>\n",
       "      <td>Blond_Hair_800/0f2d42fe3d674f9c.png</td>\n",
       "      <td>Blond_Hair</td>\n",
       "    </tr>\n",
       "    <tr>\n",
       "      <th>4798</th>\n",
       "      <td>Blond_Hair_800/1e3b1a551553427c.png</td>\n",
       "      <td>Blond_Hair</td>\n",
       "    </tr>\n",
       "    <tr>\n",
       "      <th>4799</th>\n",
       "      <td>Blond_Hair_800/1b7c7581cfb44940.png</td>\n",
       "      <td>Blond_Hair</td>\n",
       "    </tr>\n",
       "  </tbody>\n",
       "</table>\n",
       "<p>4800 rows × 2 columns</p>\n",
       "</div>"
      ],
      "text/plain": [
       "                                 img_path       label\n",
       "0      Gray_Hair_800/7efaec9350d844d7.png   Gray_Hair\n",
       "1      Gray_Hair_800/9dcb4f3374e14094.png   Gray_Hair\n",
       "2      Gray_Hair_800/8df6ddb8c31041c6.png   Gray_Hair\n",
       "3      Gray_Hair_800/7ec0e40a5d7a40e6.png   Gray_Hair\n",
       "4      Gray_Hair_800/3e1e952d54a54c6a.png   Gray_Hair\n",
       "...                                   ...         ...\n",
       "4795  Blond_Hair_800/0eb3018b8f3c4036.png  Blond_Hair\n",
       "4796  Blond_Hair_800/1a6f0215fd6243c4.png  Blond_Hair\n",
       "4797  Blond_Hair_800/0f2d42fe3d674f9c.png  Blond_Hair\n",
       "4798  Blond_Hair_800/1e3b1a551553427c.png  Blond_Hair\n",
       "4799  Blond_Hair_800/1b7c7581cfb44940.png  Blond_Hair\n",
       "\n",
       "[4800 rows x 2 columns]"
      ]
     },
     "execution_count": 9,
     "metadata": {},
     "output_type": "execute_result"
    }
   ],
   "source": [
    "data_list"
   ]
  },
  {
   "cell_type": "code",
   "execution_count": 10,
   "metadata": {},
   "outputs": [],
   "source": [
    "from sklearn.model_selection import train_test_split\n",
    "\n",
    "train_list, test_list = train_test_split(data_list,\n",
    "                                         test_size=0.1,\n",
    "                                         random_state=42,\n",
    "                                         stratify=data_list['label'].values)"
   ]
  },
  {
   "cell_type": "code",
   "execution_count": 11,
   "metadata": {},
   "outputs": [],
   "source": [
    "num_class = len(data_list['label'].unique())\n",
    "img_size = 224\n",
    "batch_size = 32"
   ]
  },
  {
   "cell_type": "markdown",
   "metadata": {},
   "source": [
    "# 模型訓練"
   ]
  },
  {
   "cell_type": "code",
   "execution_count": 12,
   "metadata": {},
   "outputs": [],
   "source": [
    "from tensorflow.keras.applications.resnet import (ResNet50, preprocess_input)"
   ]
  },
  {
   "cell_type": "code",
   "execution_count": 13,
   "metadata": {},
   "outputs": [],
   "source": [
    "resnet_model = ResNet50(weights='imagenet', include_top=False,\n",
    "                     input_shape=(img_size, img_size, 3))\n",
    "\n",
    "x = GlobalAveragePooling2D()(resnet_model.output)\n",
    "# x = Dense(128, activation='relu')(x)\n",
    "x = Dropout(0.25)(x)\n",
    "outputs = Dense(num_class, activation='softmax')(x)\n",
    "\n",
    "\n",
    "model = Model(inputs=resnet_model.inputs, outputs=outputs)"
   ]
  },
  {
   "cell_type": "code",
   "execution_count": 14,
   "metadata": {},
   "outputs": [],
   "source": [
    "resnet_model.trainable = True\n",
    "\n",
    "# trainable_layer = 3\n",
    "# for layer in resnet_model.layers[:-trainable_layer]:\n",
    "#     layer.trainable = False\n",
    "\n",
    "# for layer in model.layers:\n",
    "#     print(layer, layer.trainable)\n",
    "\n",
    "# model.summary()"
   ]
  },
  {
   "cell_type": "code",
   "execution_count": 15,
   "metadata": {},
   "outputs": [],
   "source": [
    "learning_rate = 1e-5\n",
    "optimizer = keras.optimizers.Adam(lr=learning_rate)\n",
    "\n",
    "model.compile(loss='categorical_crossentropy',\n",
    "              optimizer=optimizer,\n",
    "              metrics=['accuracy'])"
   ]
  },
  {
   "cell_type": "code",
   "execution_count": 16,
   "metadata": {},
   "outputs": [],
   "source": [
    "batch_size = 32\n",
    "num_steps = len(train_list) // batch_size + 1\n",
    "num_epochs = 10"
   ]
  },
  {
   "cell_type": "code",
   "execution_count": 17,
   "metadata": {},
   "outputs": [],
   "source": [
    "train_datagen = ImageDataGenerator(\n",
    "                                   width_shift_range=0.1,\n",
    "                                   height_shift_range=0.1,\n",
    "                                   horizontal_flip=True,\n",
    "                                   preprocessing_function=preprocess_input\n",
    "                                  )\n",
    "test_datagen = ImageDataGenerator(preprocessing_function=preprocess_input)"
   ]
  },
  {
   "cell_type": "code",
   "execution_count": 18,
   "metadata": {},
   "outputs": [
    {
     "name": "stdout",
     "output_type": "stream",
     "text": [
      "Found 4320 validated image filenames belonging to 6 classes.\n",
      "Found 480 validated image filenames belonging to 6 classes.\n"
     ]
    }
   ],
   "source": [
    "img_shape = (img_size, img_size)\n",
    "\n",
    "train_generator = train_datagen.flow_from_dataframe(\n",
    "                                                    dataframe=train_list,\n",
    "                                                    directory=data_path,\n",
    "                                                    x_col=\"img_path\",\n",
    "                                                    y_col=\"label\",\n",
    "                                                    target_size=img_shape,\n",
    "                                                    batch_size=batch_size,\n",
    "                                                    class_mode='categorical')\n",
    "\n",
    "valid_generator = test_datagen.flow_from_dataframe(\n",
    "                                                    dataframe=test_list,\n",
    "                                                    directory=data_path,\n",
    "                                                    x_col=\"img_path\",\n",
    "                                                    y_col=\"label\",\n",
    "                                                    target_size=img_shape,\n",
    "                                                    batch_size=batch_size,\n",
    "                                                    class_mode='categorical',\n",
    "                                                    shuffle=False)\n",
    "\n",
    "# 用在不知道 label 的資料讀取上\n",
    "# test_generator = test_datagen.flow_from_dataframe(\n",
    "#                                                     dataframe=test_list,\n",
    "#                                                     directory=data_path,\n",
    "#                                                     x_col=\"img_path\",\n",
    "#                                                     target_size=img_shape,\n",
    "#                                                     batch_size=batch_size,\n",
    "#                                                     class_mode=None,\n",
    "#                                                     shuffle=False)\n"
   ]
  },
  {
   "cell_type": "code",
   "execution_count": 19,
   "metadata": {},
   "outputs": [],
   "source": [
    "model_dir = 'model-logs/resnet50'\n",
    "if not os.path.exists(model_dir):\n",
    "    os.makedirs(model_dir)\n",
    "\n",
    "logfiles = model_dir + '/{}-{}'.format('basic_model',\n",
    "                                       model.__class__.__name__)\n",
    "model_cbk = keras.callbacks.TensorBoard(log_dir=logfiles,\n",
    "                                        histogram_freq=1)\n",
    "\n",
    "modelfiles = model_dir + '/{}-best-model.h5'.format('basic_model')\n",
    "model_mckp = keras.callbacks.ModelCheckpoint(modelfiles,\n",
    "                                             monitor='val_accuracy',\n",
    "                                             save_best_only=True)\n",
    "\n",
    "earlystop = keras.callbacks.EarlyStopping(monitor='val_loss',\n",
    "                                          patience=5,\n",
    "                                          verbose=1)\n",
    "\n",
    "\n",
    "callbacks_list = [model_cbk, model_mckp, earlystop]"
   ]
  },
  {
   "cell_type": "code",
   "execution_count": 20,
   "metadata": {},
   "outputs": [
    {
     "name": "stdout",
     "output_type": "stream",
     "text": [
      "Epoch 1/10\n",
      "136/136 [==============================] - 142s 1s/step - loss: 1.3351 - accuracy: 0.4903 - val_loss: 0.7699 - val_accuracy: 0.7250\n",
      "Epoch 2/10\n",
      "136/136 [==============================] - 72s 528ms/step - loss: 0.6749 - accuracy: 0.7505 - val_loss: 0.5927 - val_accuracy: 0.7875\n",
      "Epoch 3/10\n",
      "136/136 [==============================] - 72s 526ms/step - loss: 0.4991 - accuracy: 0.8194 - val_loss: 0.5508 - val_accuracy: 0.8000\n",
      "Epoch 4/10\n",
      "136/136 [==============================] - 70s 511ms/step - loss: 0.4140 - accuracy: 0.8449 - val_loss: 0.5509 - val_accuracy: 0.7979\n",
      "Epoch 5/10\n",
      "136/136 [==============================] - 71s 526ms/step - loss: 0.3573 - accuracy: 0.8688 - val_loss: 0.5440 - val_accuracy: 0.8042\n",
      "Epoch 6/10\n",
      "136/136 [==============================] - 71s 526ms/step - loss: 0.2895 - accuracy: 0.8920 - val_loss: 0.5488 - val_accuracy: 0.8167\n",
      "Epoch 7/10\n",
      "136/136 [==============================] - 70s 513ms/step - loss: 0.2677 - accuracy: 0.9067 - val_loss: 0.5525 - val_accuracy: 0.8000\n",
      "Epoch 8/10\n",
      "136/136 [==============================] - 69s 507ms/step - loss: 0.2294 - accuracy: 0.9205 - val_loss: 0.5675 - val_accuracy: 0.8167\n",
      "Epoch 9/10\n",
      "136/136 [==============================] - 72s 529ms/step - loss: 0.1887 - accuracy: 0.9313 - val_loss: 0.5567 - val_accuracy: 0.8271\n",
      "Epoch 10/10\n",
      "136/136 [==============================] - 69s 508ms/step - loss: 0.1588 - accuracy: 0.9469 - val_loss: 0.5852 - val_accuracy: 0.8146\n",
      "Epoch 00010: early stopping\n"
     ]
    }
   ],
   "source": [
    "history = model.fit_generator(train_generator,\n",
    "                              steps_per_epoch=num_steps,\n",
    "                              epochs=num_epochs,\n",
    "                              validation_data=valid_generator,\n",
    "                              callbacks=callbacks_list)"
   ]
  },
  {
   "cell_type": "code",
   "execution_count": 23,
   "metadata": {},
   "outputs": [
    {
     "name": "stdout",
     "output_type": "stream",
     "text": [
      "15/15 - 2s - loss: 0.5852 - accuracy: 0.8146\n"
     ]
    }
   ],
   "source": [
    "loss, acc = model.evaluate_generator(valid_generator, verbose=2)"
   ]
  },
  {
   "cell_type": "code",
   "execution_count": 24,
   "metadata": {},
   "outputs": [],
   "source": [
    "y_pred = model.predict_generator(valid_generator)\n",
    "y_pred = y_pred.argmax(-1)"
   ]
  },
  {
   "cell_type": "code",
   "execution_count": 25,
   "metadata": {},
   "outputs": [],
   "source": [
    "y_test = valid_generator.classes\n",
    "class_name = valid_generator.class_indices\n",
    "class_names = np.array([each for each in class_name.keys()])"
   ]
  },
  {
   "cell_type": "code",
   "execution_count": 26,
   "metadata": {},
   "outputs": [
    {
     "name": "stdout",
     "output_type": "stream",
     "text": [
      "0.8145833333333333\n",
      "[[74  0  0  0  5  1]\n",
      " [ 0 59  0 11  0 10]\n",
      " [ 0  0 71  7  1  1]\n",
      " [ 0  5  3 65  2  5]\n",
      " [ 2  2  3  1 68  4]\n",
      " [ 2  6  4 10  4 54]]\n"
     ]
    }
   ],
   "source": [
    "from sklearn.metrics import accuracy_score, confusion_matrix\n",
    "\n",
    "print(accuracy_score(y_test, y_pred))\n",
    "print(confusion_matrix(y_test, y_pred))"
   ]
  },
  {
   "cell_type": "code",
   "execution_count": 27,
   "metadata": {},
   "outputs": [
    {
     "data": {
      "text/plain": [
       "Text(0.5, 1, 'Confusion Matrix')"
      ]
     },
     "execution_count": 27,
     "metadata": {},
     "output_type": "execute_result"
    },
    {
     "data": {
      "image/png": "[encoded data removed]",
      "text/plain": [
       "<Figure size 720x720 with 1 Axes>"
      ]
     },
     "metadata": {
      "needs_background": "light"
     },
     "output_type": "display_data"
    }
   ],
   "source": [
    "import seaborn as sns\n",
    "\n",
    "matrix = confusion_matrix(y_test, y_pred)\n",
    "\n",
    "plt.figure(figsize=(10, 10))\n",
    "sns.heatmap(matrix, annot=True, cbar=False, cmap=\"Blues\",\n",
    "            xticklabels=class_names,\n",
    "            yticklabels=class_names)\n",
    "plt.ylabel('True Label')\n",
    "plt.xlabel('Predicted Label')\n",
    "plt.title('Confusion Matrix')"
   ]
  },
  {
   "cell_type": "code",
   "execution_count": 28,
   "metadata": {},
   "outputs": [
    {
     "data": {
      "image/png": "[encoded data removed]",
      "text/plain": [
       "<Figure size 864x360 with 2 Axes>"
      ]
     },
     "metadata": {
      "needs_background": "light"
     },
     "output_type": "display_data"
    }
   ],
   "source": [
    "train_history = ['loss', 'val_loss', 'accuracy', 'val_accuracy']\n",
    "name_history = ['training_loss', 'val_loss', 'training_acc', 'val_acc']\n",
    "\n",
    "plt.figure(figsize=(12, 5))\n",
    "for eachx, eachy, i in zip(train_history, name_history, range(4)):\n",
    "    if i % 2 == 0:\n",
    "        plt.subplot(1, 2, i//2+1)\n",
    "    l_x = len(history.history[eachx])\n",
    "    plt.plot(np.arange(l_x), history.history[eachx], label=eachy)\n",
    "    plt.legend(loc='best')\n",
    "    plt.title('model'+eachy)\n",
    "plt.show()"
   ]
  },
  {
   "cell_type": "code",
   "execution_count": null,
   "metadata": {},
   "outputs": [],
   "source": []
  },
  {
   "cell_type": "markdown",
   "metadata": {},
   "source": [
    "### Testset output method 1"
   ]
  },
  {
   "cell_type": "code",
   "execution_count": 29,
   "metadata": {},
   "outputs": [
    {
     "name": "stdout",
     "output_type": "stream",
     "text": [
      "Found 3006 images belonging to 2 classes.\n"
     ]
    },
    {
     "data": {
      "text/plain": [
       "{'.ipynb_checkpoints': 0, 'testset_hair': 1}"
      ]
     },
     "execution_count": 29,
     "metadata": {},
     "output_type": "execute_result"
    }
   ],
   "source": [
    "test_datagen = ImageDataGenerator(preprocessing_function=preprocess_input)\n",
    "test_generator = test_datagen.flow_from_directory(\"testset/\", target_size=(224, 224), class_mode=None, shuffle=False)\n",
    "test_generator.class_indices"
   ]
  },
  {
   "cell_type": "code",
   "execution_count": 30,
   "metadata": {},
   "outputs": [
    {
     "name": "stdout",
     "output_type": "stream",
     "text": [
      "<class 'numpy.ndarray'>\n"
     ]
    }
   ],
   "source": [
    "pred = model.predict(test_generator).argmax(-1)\n",
    "print(type(pred))"
   ]
  },
  {
   "cell_type": "code",
   "execution_count": 42,
   "metadata": {},
   "outputs": [],
   "source": [
    "# test_generator.filenames"
   ]
  },
  {
   "cell_type": "code",
   "execution_count": null,
   "metadata": {},
   "outputs": [],
   "source": []
  },
  {
   "cell_type": "code",
   "execution_count": 44,
   "metadata": {},
   "outputs": [
    {
     "name": "stdout",
     "output_type": "stream",
     "text": [
      ".ipynb_checkpoints/a1d50265a7114e18-checkpoint\n"
     ]
    }
   ],
   "source": [
    "id = []\n",
    "for p in test_generator.filenames:\n",
    "    id.append(os.path.splitext(p)[0][13:]+'.png')\n",
    "# print(p)\n",
    "print(os.path.splitext(p)[0][13:])\n"
   ]
  },
  {
   "cell_type": "code",
   "execution_count": 45,
   "metadata": {},
   "outputs": [],
   "source": [
    "import pandas as pd\n",
    "import datetime\n",
    "\n",
    "res = pd.DataFrame()\n",
    "res[\"fileName\"] = id\n",
    "res[\"class\"] = pred\n",
    "\n",
    "now = datetime.datetime.now().strftime(\"%Y-%b-%d-%I:%M\")\n",
    "res.to_csv(f'predictions/{now}.csv', index=False)"
   ]
  },
  {
   "cell_type": "code",
   "execution_count": 46,
   "metadata": {},
   "outputs": [],
   "source": [
    "result_cut = pd.read_csv(f'predictions/{now}.csv')"
   ]
  },
  {
   "cell_type": "code",
   "execution_count": 47,
   "metadata": {},
   "outputs": [
    {
     "data": {
      "text/html": [
       "<div>\n",
       "<style scoped>\n",
       "    .dataframe tbody tr th:only-of-type {\n",
       "        vertical-align: middle;\n",
       "    }\n",
       "\n",
       "    .dataframe tbody tr th {\n",
       "        vertical-align: top;\n",
       "    }\n",
       "\n",
       "    .dataframe thead th {\n",
       "        text-align: right;\n",
       "    }\n",
       "</style>\n",
       "<table border=\"1\" class=\"dataframe\">\n",
       "  <thead>\n",
       "    <tr style=\"text-align: right;\">\n",
       "      <th></th>\n",
       "      <th>fileName</th>\n",
       "      <th>class</th>\n",
       "    </tr>\n",
       "  </thead>\n",
       "  <tbody>\n",
       "    <tr>\n",
       "      <th>2991</th>\n",
       "      <td>a6ace066d1334a4d.png</td>\n",
       "      <td>0</td>\n",
       "    </tr>\n",
       "    <tr>\n",
       "      <th>2992</th>\n",
       "      <td>a6edf5bee0794594.png</td>\n",
       "      <td>0</td>\n",
       "    </tr>\n",
       "    <tr>\n",
       "      <th>2993</th>\n",
       "      <td>a6f272588b2440ed.png</td>\n",
       "      <td>0</td>\n",
       "    </tr>\n",
       "    <tr>\n",
       "      <th>2994</th>\n",
       "      <td>a82f41c9378a4577.png</td>\n",
       "      <td>0</td>\n",
       "    </tr>\n",
       "    <tr>\n",
       "      <th>2995</th>\n",
       "      <td>a84ac249fe5a4321.png</td>\n",
       "      <td>0</td>\n",
       "    </tr>\n",
       "    <tr>\n",
       "      <th>2996</th>\n",
       "      <td>a8c72d2e01904f03.png</td>\n",
       "      <td>0</td>\n",
       "    </tr>\n",
       "    <tr>\n",
       "      <th>2997</th>\n",
       "      <td>a8cf1a21ccf648e5.png</td>\n",
       "      <td>0</td>\n",
       "    </tr>\n",
       "    <tr>\n",
       "      <th>2998</th>\n",
       "      <td>a917be9cff72423b.png</td>\n",
       "      <td>0</td>\n",
       "    </tr>\n",
       "    <tr>\n",
       "      <th>2999</th>\n",
       "      <td>a933eb7a3a044018.png</td>\n",
       "      <td>0</td>\n",
       "    </tr>\n",
       "    <tr>\n",
       "      <th>3000</th>\n",
       "      <td>.ipynb_checkpoints/0004a19b4e3340fe-checkpoint...</td>\n",
       "      <td>5</td>\n",
       "    </tr>\n",
       "    <tr>\n",
       "      <th>3001</th>\n",
       "      <td>.ipynb_checkpoints/000afd091ddd4072-checkpoint...</td>\n",
       "      <td>2</td>\n",
       "    </tr>\n",
       "    <tr>\n",
       "      <th>3002</th>\n",
       "      <td>.ipynb_checkpoints/000c30901b254aee-checkpoint...</td>\n",
       "      <td>3</td>\n",
       "    </tr>\n",
       "    <tr>\n",
       "      <th>3003</th>\n",
       "      <td>.ipynb_checkpoints/000df7a868114cd9-checkpoint...</td>\n",
       "      <td>3</td>\n",
       "    </tr>\n",
       "    <tr>\n",
       "      <th>3004</th>\n",
       "      <td>.ipynb_checkpoints/000eb82577584c01-checkpoint...</td>\n",
       "      <td>1</td>\n",
       "    </tr>\n",
       "    <tr>\n",
       "      <th>3005</th>\n",
       "      <td>.ipynb_checkpoints/a1d50265a7114e18-checkpoint...</td>\n",
       "      <td>0</td>\n",
       "    </tr>\n",
       "  </tbody>\n",
       "</table>\n",
       "</div>"
      ],
      "text/plain": [
       "                                               fileName  class\n",
       "2991                               a6ace066d1334a4d.png      0\n",
       "2992                               a6edf5bee0794594.png      0\n",
       "2993                               a6f272588b2440ed.png      0\n",
       "2994                               a82f41c9378a4577.png      0\n",
       "2995                               a84ac249fe5a4321.png      0\n",
       "2996                               a8c72d2e01904f03.png      0\n",
       "2997                               a8cf1a21ccf648e5.png      0\n",
       "2998                               a917be9cff72423b.png      0\n",
       "2999                               a933eb7a3a044018.png      0\n",
       "3000  .ipynb_checkpoints/0004a19b4e3340fe-checkpoint...      5\n",
       "3001  .ipynb_checkpoints/000afd091ddd4072-checkpoint...      2\n",
       "3002  .ipynb_checkpoints/000c30901b254aee-checkpoint...      3\n",
       "3003  .ipynb_checkpoints/000df7a868114cd9-checkpoint...      3\n",
       "3004  .ipynb_checkpoints/000eb82577584c01-checkpoint...      1\n",
       "3005  .ipynb_checkpoints/a1d50265a7114e18-checkpoint...      0"
      ]
     },
     "execution_count": 47,
     "metadata": {},
     "output_type": "execute_result"
    }
   ],
   "source": [
    "result_cut.tail(15)"
   ]
  },
  {
   "cell_type": "code",
   "execution_count": null,
   "metadata": {},
   "outputs": [],
   "source": []
  },
  {
   "cell_type": "code",
   "execution_count": 48,
   "metadata": {},
   "outputs": [],
   "source": [
    "result_cut = result_cut[:3000]"
   ]
  },
  {
   "cell_type": "code",
   "execution_count": 49,
   "metadata": {},
   "outputs": [],
   "source": [
    "result_cut.to_csv(f'predictions/{now}.csv', index=False)"
   ]
  },
  {
   "cell_type": "code",
   "execution_count": null,
   "metadata": {},
   "outputs": [],
   "source": []
  }
 ],
 "metadata": {
  "kernelspec": {
   "display_name": "Python 3",
   "language": "python",
   "name": "python3"
  },
  "language_info": {
   "codemirror_mode": {
    "name": "ipython",
    "version": 3
   },
   "file_extension": ".py",
   "mimetype": "text/x-python",
   "name": "python",
   "nbconvert_exporter": "python",
   "pygments_lexer": "ipython3",
   "version": "3.7.3"
  }
 },
 "nbformat": 4,
 "nbformat_minor": 4
}
